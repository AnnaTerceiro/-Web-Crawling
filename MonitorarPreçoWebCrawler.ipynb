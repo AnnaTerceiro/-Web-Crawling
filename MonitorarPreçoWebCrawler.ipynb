{
  "nbformat": 4,
  "nbformat_minor": 0,
  "metadata": {
    "colab": {
      "name": "MonitorarPreçoWebCrawler.ipynb",
      "provenance": [],
      "collapsed_sections": [],
      "include_colab_link": true
    },
    "kernelspec": {
      "name": "python3",
      "display_name": "Python 3"
    },
    "language_info": {
      "name": "python"
    }
  },
  "cells": [
    {
      "cell_type": "markdown",
      "metadata": {
        "id": "view-in-github",
        "colab_type": "text"
      },
      "source": [
        "<a href=\"https://colab.research.google.com/github/AnnaTerceiro/WebCrawler/blob/main/MonitorarPre%C3%A7oWebCrawler.ipynb\" target=\"_parent\"><img src=\"https://colab.research.google.com/assets/colab-badge.svg\" alt=\"Open In Colab\"/></a>"
      ]
    },
    {
      "cell_type": "code",
      "metadata": {
        "id": "dA3Xv-o8zwsh"
      },
      "source": [
        "!pip install requests\n",
        "!pip install bs4"
      ],
      "execution_count": null,
      "outputs": []
    },
    {
      "cell_type": "code",
      "metadata": {
        "id": "RtbKyqE7Bhub"
      },
      "source": [
        "from bs4 import BeautifulSoup\n",
        "import requests\n",
        "import smtplib\n",
        "import email.message"
      ],
      "execution_count": 5,
      "outputs": []
    },
    {
      "cell_type": "code",
      "metadata": {
        "id": "aaV2WDgWB2rc"
      },
      "source": [
        "URL = \"https://www.extra.com.br/refrigerador-consul-facilite-crb36ab-frost-free-com-congelador-com-trava-300l-branco/p/7313\"\n",
        "\n",
        "headers = {'User-Agent': \"Mozilla/5.0 (Windows NT 10.0; Win64; x64) AppleWebKit/537.36 (KHTML, like Gecko) Chrome/91.0.4472.124 Safari/537.36 Edg/91.0.864.70\"}\n",
        "\n",
        "site = requests.get(URL, headers=headers)\n",
        "soup = BeautifulSoup(site.content, 'html.parser')\n",
        "produto = soup.find('h1', class_= ' css-1pnb2jm eym5xli0').get_text()\n",
        "price = soup.find('p', class_= ' eub5v7x0 css-1uyuiur eym5xli0').get_text().strip()\n",
        "num_price = price\n",
        "\n",
        "def send_email():\n",
        "  email_content = \"\"\"https://www.extra.com.br/refrigerador-consul-facilite-crb36ab-frost-free-com-congelador-com-trava-300l-branco/p/7313\"\"\"\n",
        "  msg = email.message.Message()\n",
        "  msg['Subject'] = 'Preço Refrigerador Consul BAIXOU!!!'\n",
        "  msg['From'] = 'webscraperanna@gmail.com'\n",
        "  msg['To'] = 'webscraperanna@gmail.com'\n",
        "  password = 'webscraper123'\n",
        "  msg.add_header('Content-Type', 'text/html')\n",
        "  msg.set_payload(email_content)\n",
        "\n",
        "  s = smtplib.SMTP('smtp.gmail.com: 587')\n",
        "  s.starttls()\n",
        "  s.login(msg['From'], password)\n",
        "  s.sendemail(msg['From'], [msg['To']], msg.as_string())\n",
        "\n",
        "  print('Sucesso ao enviar o email')\n",
        "\n",
        "if (num.price < 1900):\n",
        "  send_email()"
      ],
      "execution_count": null,
      "outputs": []
    }
  ]
}